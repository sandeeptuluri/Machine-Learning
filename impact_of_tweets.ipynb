{
  "nbformat": 4,
  "nbformat_minor": 0,
  "metadata": {
    "colab": {
      "name": "impact of tweets.ipynb",
      "provenance": [],
      "collapsed_sections": [],
      "authorship_tag": "ABX9TyN8OLB/E0SdtDHcELIRu5m/",
      "include_colab_link": true
    },
    "kernelspec": {
      "name": "python3",
      "display_name": "Python 3"
    },
    "language_info": {
      "name": "python"
    }
  },
  "cells": [
    {
      "cell_type": "markdown",
      "metadata": {
        "id": "view-in-github",
        "colab_type": "text"
      },
      "source": [
        "<a href=\"https://colab.research.google.com/github/sandeeptuluri/Machine-Learning/blob/main/impact_of_tweets.ipynb\" target=\"_parent\"><img src=\"https://colab.research.google.com/assets/colab-badge.svg\" alt=\"Open In Colab\"/></a>"
      ]
    },
    {
      "cell_type": "markdown",
      "metadata": {
        "id": "Tr4zen6BKZzy"
      },
      "source": [
        "Linear Regression."
      ]
    },
    {
      "cell_type": "markdown",
      "metadata": {
        "id": "SWFFkPaCyiM9"
      },
      "source": [
        "We will start by importing the required libraries."
      ]
    },
    {
      "cell_type": "code",
      "metadata": {
        "id": "LoyuqJuPwRaB"
      },
      "source": [
        "import pandas as pd\n",
        "import numpy as np\n",
        "import seaborn as sns\n",
        "import matplotlib.pyplot as plt"
      ],
      "execution_count": 1,
      "outputs": []
    },
    {
      "cell_type": "markdown",
      "metadata": {
        "id": "Sn-vFSf_ytZ-"
      },
      "source": [
        "Importing the data."
      ]
    },
    {
      "cell_type": "code",
      "metadata": {
        "id": "qH2PRdhqwobY"
      },
      "source": [
        "tweets = pd.read_csv('https://raw.githubusercontent.com/sandeeptuluri/Machine-Learning/main/Twitter.csv')"
      ],
      "execution_count": 2,
      "outputs": []
    },
    {
      "cell_type": "code",
      "metadata": {
        "colab": {
          "base_uri": "https://localhost:8080/",
          "height": 250
        },
        "id": "8WPk8eeuyNX5",
        "outputId": "853df3ff-1a71-4c02-f1ba-17aafe86b5de"
      },
      "source": [
        "tweets.head(2)"
      ],
      "execution_count": 3,
      "outputs": [
        {
          "output_type": "execute_result",
          "data": {
            "text/html": [
              "<div>\n",
              "<style scoped>\n",
              "    .dataframe tbody tr th:only-of-type {\n",
              "        vertical-align: middle;\n",
              "    }\n",
              "\n",
              "    .dataframe tbody tr th {\n",
              "        vertical-align: top;\n",
              "    }\n",
              "\n",
              "    .dataframe thead th {\n",
              "        text-align: right;\n",
              "    }\n",
              "</style>\n",
              "<table border=\"1\" class=\"dataframe\">\n",
              "  <thead>\n",
              "    <tr style=\"text-align: right;\">\n",
              "      <th></th>\n",
              "      <th>Unnamed: 0</th>\n",
              "      <th>Id</th>\n",
              "      <th>Post Contet</th>\n",
              "      <th>Sentiment score</th>\n",
              "      <th>Post Length</th>\n",
              "      <th>Hashtag count</th>\n",
              "      <th>Content URL count</th>\n",
              "      <th>Tweet count</th>\n",
              "      <th>Followers count</th>\n",
              "      <th>Listed Count</th>\n",
              "      <th>Media Type</th>\n",
              "      <th>Published DateTime</th>\n",
              "      <th>Mentions Count</th>\n",
              "      <th>Post author verified</th>\n",
              "      <th>Likes</th>\n",
              "      <th>Shares</th>\n",
              "      <th>Comments</th>\n",
              "      <th>Impact</th>\n",
              "    </tr>\n",
              "  </thead>\n",
              "  <tbody>\n",
              "    <tr>\n",
              "      <th>0</th>\n",
              "      <td>41370</td>\n",
              "      <td>6d967b125fcecba6357dbc43f8f380cf2d6d7a51</td>\n",
              "      <td>Sana all na lang.</td>\n",
              "      <td>0.0</td>\n",
              "      <td>17.0</td>\n",
              "      <td>0.0</td>\n",
              "      <td>0.0</td>\n",
              "      <td>1660.0</td>\n",
              "      <td>133.0</td>\n",
              "      <td>0</td>\n",
              "      <td>TEXT</td>\n",
              "      <td>2021-01-28 12:17:24+00:00</td>\n",
              "      <td>0.0</td>\n",
              "      <td>0.0</td>\n",
              "      <td>0.0</td>\n",
              "      <td>0.0</td>\n",
              "      <td>0.0</td>\n",
              "      <td>0.0</td>\n",
              "    </tr>\n",
              "    <tr>\n",
              "      <th>1</th>\n",
              "      <td>27955</td>\n",
              "      <td>22dc5f808a8589186767412f39e5c88ae9753d04</td>\n",
              "      <td>キスマイ玉森裕太「ボス恋」台本の裏話明かす\\n\\n@TBS_asachan @bosskoi...</td>\n",
              "      <td>19.3</td>\n",
              "      <td>84.0</td>\n",
              "      <td>0.0</td>\n",
              "      <td>1.0</td>\n",
              "      <td>318924.0</td>\n",
              "      <td>1428273.0</td>\n",
              "      <td>5454</td>\n",
              "      <td>TEXT</td>\n",
              "      <td>2021-02-24 06:51:02+00:00</td>\n",
              "      <td>0.0</td>\n",
              "      <td>1.0</td>\n",
              "      <td>10.0</td>\n",
              "      <td>1.0</td>\n",
              "      <td>0.0</td>\n",
              "      <td>110.0</td>\n",
              "    </tr>\n",
              "  </tbody>\n",
              "</table>\n",
              "</div>"
            ],
            "text/plain": [
              "   Unnamed: 0                                        Id  ... Comments  Impact\n",
              "0       41370  6d967b125fcecba6357dbc43f8f380cf2d6d7a51  ...      0.0     0.0\n",
              "1       27955  22dc5f808a8589186767412f39e5c88ae9753d04  ...      0.0   110.0\n",
              "\n",
              "[2 rows x 18 columns]"
            ]
          },
          "metadata": {
            "tags": []
          },
          "execution_count": 3
        }
      ]
    },
    {
      "cell_type": "code",
      "metadata": {
        "colab": {
          "base_uri": "https://localhost:8080/"
        },
        "id": "JxMTZGmgyaEG",
        "outputId": "cbdce4ba-5e63-4479-dce0-24e1892fa71d"
      },
      "source": [
        "tweets.info()"
      ],
      "execution_count": 4,
      "outputs": [
        {
          "output_type": "stream",
          "text": [
            "<class 'pandas.core.frame.DataFrame'>\n",
            "RangeIndex: 50000 entries, 0 to 49999\n",
            "Data columns (total 18 columns):\n",
            " #   Column                Non-Null Count  Dtype  \n",
            "---  ------                --------------  -----  \n",
            " 0   Unnamed: 0            50000 non-null  int64  \n",
            " 1   Id                    50000 non-null  object \n",
            " 2   Post Contet           50000 non-null  object \n",
            " 3   Sentiment score       50000 non-null  float64\n",
            " 4   Post Length           50000 non-null  float64\n",
            " 5   Hashtag count         50000 non-null  float64\n",
            " 6   Content URL count     50000 non-null  float64\n",
            " 7   Tweet count           50000 non-null  float64\n",
            " 8   Followers count       50000 non-null  float64\n",
            " 9   Listed Count          50000 non-null  int64  \n",
            " 10  Media Type            50000 non-null  object \n",
            " 11  Published DateTime    50000 non-null  object \n",
            " 12  Mentions Count        50000 non-null  float64\n",
            " 13  Post author verified  50000 non-null  float64\n",
            " 14  Likes                 50000 non-null  float64\n",
            " 15  Shares                50000 non-null  float64\n",
            " 16  Comments              50000 non-null  float64\n",
            " 17  Impact                50000 non-null  float64\n",
            "dtypes: float64(12), int64(2), object(4)\n",
            "memory usage: 6.9+ MB\n"
          ],
          "name": "stdout"
        }
      ]
    },
    {
      "cell_type": "markdown",
      "metadata": {
        "id": "nAHLz93izBEw"
      },
      "source": [
        "The data looks clean and clear."
      ]
    },
    {
      "cell_type": "code",
      "metadata": {
        "colab": {
          "base_uri": "https://localhost:8080/",
          "height": 334
        },
        "id": "e0y4kWQ5y-LN",
        "outputId": "cc81c701-c402-446a-fdc9-39f14ac88c66"
      },
      "source": [
        "tweets.describe()"
      ],
      "execution_count": 5,
      "outputs": [
        {
          "output_type": "execute_result",
          "data": {
            "text/html": [
              "<div>\n",
              "<style scoped>\n",
              "    .dataframe tbody tr th:only-of-type {\n",
              "        vertical-align: middle;\n",
              "    }\n",
              "\n",
              "    .dataframe tbody tr th {\n",
              "        vertical-align: top;\n",
              "    }\n",
              "\n",
              "    .dataframe thead th {\n",
              "        text-align: right;\n",
              "    }\n",
              "</style>\n",
              "<table border=\"1\" class=\"dataframe\">\n",
              "  <thead>\n",
              "    <tr style=\"text-align: right;\">\n",
              "      <th></th>\n",
              "      <th>Unnamed: 0</th>\n",
              "      <th>Sentiment score</th>\n",
              "      <th>Post Length</th>\n",
              "      <th>Hashtag count</th>\n",
              "      <th>Content URL count</th>\n",
              "      <th>Tweet count</th>\n",
              "      <th>Followers count</th>\n",
              "      <th>Listed Count</th>\n",
              "      <th>Mentions Count</th>\n",
              "      <th>Post author verified</th>\n",
              "      <th>Likes</th>\n",
              "      <th>Shares</th>\n",
              "      <th>Comments</th>\n",
              "      <th>Impact</th>\n",
              "    </tr>\n",
              "  </thead>\n",
              "  <tbody>\n",
              "    <tr>\n",
              "      <th>count</th>\n",
              "      <td>50000.000000</td>\n",
              "      <td>50000.000000</td>\n",
              "      <td>50000.000000</td>\n",
              "      <td>50000.000000</td>\n",
              "      <td>50000.000000</td>\n",
              "      <td>5.000000e+04</td>\n",
              "      <td>5.000000e+04</td>\n",
              "      <td>50000.000000</td>\n",
              "      <td>50000.000000</td>\n",
              "      <td>50000.000000</td>\n",
              "      <td>50000.0000</td>\n",
              "      <td>50000.000000</td>\n",
              "      <td>50000.000000</td>\n",
              "      <td>50000.000000</td>\n",
              "    </tr>\n",
              "    <tr>\n",
              "      <th>mean</th>\n",
              "      <td>14193.578860</td>\n",
              "      <td>1.068916</td>\n",
              "      <td>154.692360</td>\n",
              "      <td>0.687520</td>\n",
              "      <td>0.480260</td>\n",
              "      <td>2.414257e+05</td>\n",
              "      <td>4.648759e+06</td>\n",
              "      <td>10069.683200</td>\n",
              "      <td>0.113720</td>\n",
              "      <td>0.626480</td>\n",
              "      <td>3020.7063</td>\n",
              "      <td>966.773260</td>\n",
              "      <td>16.407920</td>\n",
              "      <td>40038.735600</td>\n",
              "    </tr>\n",
              "    <tr>\n",
              "      <th>std</th>\n",
              "      <td>10363.500433</td>\n",
              "      <td>10.436746</td>\n",
              "      <td>79.099411</td>\n",
              "      <td>1.346979</td>\n",
              "      <td>0.526019</td>\n",
              "      <td>1.607467e+06</td>\n",
              "      <td>1.254513e+07</td>\n",
              "      <td>28384.958681</td>\n",
              "      <td>0.512984</td>\n",
              "      <td>0.483743</td>\n",
              "      <td>8261.9454</td>\n",
              "      <td>3117.212706</td>\n",
              "      <td>543.669304</td>\n",
              "      <td>103075.779094</td>\n",
              "    </tr>\n",
              "    <tr>\n",
              "      <th>min</th>\n",
              "      <td>0.000000</td>\n",
              "      <td>-20.000000</td>\n",
              "      <td>1.000000</td>\n",
              "      <td>0.000000</td>\n",
              "      <td>0.000000</td>\n",
              "      <td>0.000000e+00</td>\n",
              "      <td>0.000000e+00</td>\n",
              "      <td>0.000000</td>\n",
              "      <td>0.000000</td>\n",
              "      <td>0.000000</td>\n",
              "      <td>0.0000</td>\n",
              "      <td>0.000000</td>\n",
              "      <td>0.000000</td>\n",
              "      <td>0.000000</td>\n",
              "    </tr>\n",
              "    <tr>\n",
              "      <th>25%</th>\n",
              "      <td>6017.000000</td>\n",
              "      <td>0.000000</td>\n",
              "      <td>94.000000</td>\n",
              "      <td>0.000000</td>\n",
              "      <td>0.000000</td>\n",
              "      <td>1.123775e+04</td>\n",
              "      <td>1.053900e+04</td>\n",
              "      <td>2.000000</td>\n",
              "      <td>0.000000</td>\n",
              "      <td>0.000000</td>\n",
              "      <td>1.0000</td>\n",
              "      <td>0.000000</td>\n",
              "      <td>0.000000</td>\n",
              "      <td>10.000000</td>\n",
              "    </tr>\n",
              "    <tr>\n",
              "      <th>50%</th>\n",
              "      <td>12076.500000</td>\n",
              "      <td>0.000000</td>\n",
              "      <td>142.000000</td>\n",
              "      <td>0.000000</td>\n",
              "      <td>0.000000</td>\n",
              "      <td>5.273800e+04</td>\n",
              "      <td>3.551225e+05</td>\n",
              "      <td>555.500000</td>\n",
              "      <td>0.000000</td>\n",
              "      <td>1.000000</td>\n",
              "      <td>153.0000</td>\n",
              "      <td>42.000000</td>\n",
              "      <td>0.000000</td>\n",
              "      <td>2100.000000</td>\n",
              "    </tr>\n",
              "    <tr>\n",
              "      <th>75%</th>\n",
              "      <td>20650.250000</td>\n",
              "      <td>0.000000</td>\n",
              "      <td>215.000000</td>\n",
              "      <td>1.000000</td>\n",
              "      <td>1.000000</td>\n",
              "      <td>2.595015e+05</td>\n",
              "      <td>2.809978e+06</td>\n",
              "      <td>6171.000000</td>\n",
              "      <td>0.000000</td>\n",
              "      <td>1.000000</td>\n",
              "      <td>1909.0000</td>\n",
              "      <td>559.000000</td>\n",
              "      <td>0.000000</td>\n",
              "      <td>27500.000000</td>\n",
              "    </tr>\n",
              "    <tr>\n",
              "      <th>max</th>\n",
              "      <td>43879.000000</td>\n",
              "      <td>20.000000</td>\n",
              "      <td>373.000000</td>\n",
              "      <td>21.000000</td>\n",
              "      <td>7.000000</td>\n",
              "      <td>5.044408e+07</td>\n",
              "      <td>1.144406e+08</td>\n",
              "      <td>568139.000000</td>\n",
              "      <td>12.000000</td>\n",
              "      <td>1.000000</td>\n",
              "      <td>90919.0000</td>\n",
              "      <td>79671.000000</td>\n",
              "      <td>66939.000000</td>\n",
              "      <td>997980.000000</td>\n",
              "    </tr>\n",
              "  </tbody>\n",
              "</table>\n",
              "</div>"
            ],
            "text/plain": [
              "         Unnamed: 0  Sentiment score  ...      Comments         Impact\n",
              "count  50000.000000     50000.000000  ...  50000.000000   50000.000000\n",
              "mean   14193.578860         1.068916  ...     16.407920   40038.735600\n",
              "std    10363.500433        10.436746  ...    543.669304  103075.779094\n",
              "min        0.000000       -20.000000  ...      0.000000       0.000000\n",
              "25%     6017.000000         0.000000  ...      0.000000      10.000000\n",
              "50%    12076.500000         0.000000  ...      0.000000    2100.000000\n",
              "75%    20650.250000         0.000000  ...      0.000000   27500.000000\n",
              "max    43879.000000        20.000000  ...  66939.000000  997980.000000\n",
              "\n",
              "[8 rows x 14 columns]"
            ]
          },
          "metadata": {
            "tags": []
          },
          "execution_count": 5
        }
      ]
    },
    {
      "cell_type": "markdown",
      "metadata": {
        "id": "aQC405MWz2OW"
      },
      "source": [
        "Exploratory Data Analysis."
      ]
    },
    {
      "cell_type": "code",
      "metadata": {
        "colab": {
          "base_uri": "https://localhost:8080/",
          "height": 296
        },
        "id": "ob3kyOEAzLM1",
        "outputId": "67d837aa-9570-490c-b290-f528427c5771"
      },
      "source": [
        "sns.histplot(tweets.Impact)"
      ],
      "execution_count": 6,
      "outputs": [
        {
          "output_type": "execute_result",
          "data": {
            "text/plain": [
              "<matplotlib.axes._subplots.AxesSubplot at 0x7f5f94374dd0>"
            ]
          },
          "metadata": {
            "tags": []
          },
          "execution_count": 6
        },
        {
          "output_type": "display_data",
          "data": {
            "image/png": "[encoded data removed]",
            "text/plain": [
              "<Figure size 432x288 with 1 Axes>"
            ]
          },
          "metadata": {
            "tags": [],
            "needs_background": "light"
          }
        }
      ]
    },
    {
      "cell_type": "markdown",
      "metadata": {
        "id": "HsU04tZT2Id9"
      },
      "source": [
        "It seems like very few number of tweets got high impact."
      ]
    },
    {
      "cell_type": "code",
      "metadata": {
        "colab": {
          "base_uri": "https://localhost:8080/"
        },
        "id": "6CmkTnZIz_lm",
        "outputId": "e383bbd2-2603-46cb-a8a1-aa5ace7215b3"
      },
      "source": [
        "tweets.Impact.max()"
      ],
      "execution_count": 7,
      "outputs": [
        {
          "output_type": "execute_result",
          "data": {
            "text/plain": [
              "997980.0"
            ]
          },
          "metadata": {
            "tags": []
          },
          "execution_count": 7
        }
      ]
    },
    {
      "cell_type": "code",
      "metadata": {
        "colab": {
          "base_uri": "https://localhost:8080/",
          "height": 35
        },
        "id": "YFVXMaD60ifV",
        "outputId": "a315e08b-cfa0-403c-df17-98ca4c793e58"
      },
      "source": [
        "tweets[tweets.Impact == 997980]['Post Contet'].iloc[0]"
      ],
      "execution_count": 8,
      "outputs": [
        {
          "output_type": "execute_result",
          "data": {
            "application/vnd.google.colaboratory.intrinsic+json": {
              "type": "string"
            },
            "text/plain": [
              "'PS5 Global launch schedule: https://t.co/zgwfUX6iVl'"
            ]
          },
          "metadata": {
            "tags": []
          },
          "execution_count": 8
        }
      ]
    },
    {
      "cell_type": "markdown",
      "metadata": {
        "id": "8e8rlrcY2fZi"
      },
      "source": [
        "The above tweet got the highest impact from the overall tweets."
      ]
    },
    {
      "cell_type": "markdown",
      "metadata": {
        "id": "fjjJgNxC239S"
      },
      "source": [
        "Let's check the correlation between in the dataset."
      ]
    },
    {
      "cell_type": "code",
      "metadata": {
        "colab": {
          "base_uri": "https://localhost:8080/",
          "height": 483
        },
        "id": "Oz1TbWgN02I0",
        "outputId": "81a37f1f-163a-4959-b918-e35e6de71d69"
      },
      "source": [
        "plt.figure(figsize=(12,6))\n",
        "sns.heatmap(tweets.corr(), annot=True)"
      ],
      "execution_count": 9,
      "outputs": [
        {
          "output_type": "execute_result",
          "data": {
            "text/plain": [
              "<matplotlib.axes._subplots.AxesSubplot at 0x7f5f95fb2090>"
            ]
          },
          "metadata": {
            "tags": []
          },
          "execution_count": 9
        },
        {
          "output_type": "display_data",
          "data": {
            "image/png": "[encoded data removed]",
            "text/plain": [
              "<Figure size 864x432 with 2 Axes>"
            ]
          },
          "metadata": {
            "tags": [],
            "needs_background": "light"
          }
        }
      ]
    },
    {
      "cell_type": "markdown",
      "metadata": {
        "id": "4p6QpX3r3l3v"
      },
      "source": [
        "From the dataset the most correlated features are 'Content URL count', 'Post author verified', 'Followers Count', 'listed count', 'Likes', 'Impact', 'Shares'.\n",
        "so we will consider these features for the training the model."
      ]
    },
    {
      "cell_type": "markdown",
      "metadata": {
        "id": "T9NML0Og6h3c"
      },
      "source": [
        "Linear Regression Model.\n",
        "\n",
        "Train Test Split."
      ]
    },
    {
      "cell_type": "code",
      "metadata": {
        "id": "GiN038I53GvM"
      },
      "source": [
        "from sklearn.model_selection import train_test_split"
      ],
      "execution_count": 10,
      "outputs": []
    },
    {
      "cell_type": "code",
      "metadata": {
        "id": "d-N0VriA6vd0"
      },
      "source": [
        "X = tweets[['Content URL count','Followers count','Listed Count','Post author verified','Likes', 'Shares']]\n",
        "y = tweets['Impact']"
      ],
      "execution_count": 11,
      "outputs": []
    },
    {
      "cell_type": "code",
      "metadata": {
        "id": "xlvyBDOK7lMd"
      },
      "source": [
        "X_train, X_test, y_train, y_test = train_test_split(X, y, test_size=0.3, random_state=101)"
      ],
      "execution_count": 12,
      "outputs": []
    },
    {
      "cell_type": "code",
      "metadata": {
        "id": "UlpV8Rdc8f_H"
      },
      "source": [
        "from sklearn.linear_model import LinearRegression"
      ],
      "execution_count": 13,
      "outputs": []
    },
    {
      "cell_type": "markdown",
      "metadata": {
        "id": "iSXzfViDCMXI"
      },
      "source": [
        "Loading the model and fitting the train data."
      ]
    },
    {
      "cell_type": "code",
      "metadata": {
        "id": "BAYwmaNp9Ybr"
      },
      "source": [
        "linreg = LinearRegression()"
      ],
      "execution_count": 14,
      "outputs": []
    },
    {
      "cell_type": "code",
      "metadata": {
        "id": "Rx2mTxJL9eLr"
      },
      "source": [
        "model = linreg.fit(X_train,y_train)"
      ],
      "execution_count": 15,
      "outputs": []
    },
    {
      "cell_type": "code",
      "metadata": {
        "id": "_iDjzW479nD8"
      },
      "source": [
        "from sklearn import metrics\n",
        "\n",
        "def print_metrics(a, b):\n",
        "  mae = metrics.mean_absolute_error(a, b)\n",
        "  mse = metrics.mean_squared_error(a, b)\n",
        "  rmse = np.sqrt(metrics.mean_squared_error(a,b))\n",
        "  r_squared = metrics.r2_score(a, b)\n",
        "  print(\"MAE\", mae)\n",
        "  print(\"MSE\", mse)\n",
        "  print(\"RMSE\", rmse)\n",
        "  print(\"R2_squared\", r_squared)\n",
        "  print('--------------------------------------')"
      ],
      "execution_count": 16,
      "outputs": []
    },
    {
      "cell_type": "markdown",
      "metadata": {
        "id": "CEz33seLCUki"
      },
      "source": [
        "Printing the metrics."
      ]
    },
    {
      "cell_type": "code",
      "metadata": {
        "id": "OVKfjIWqB_J9"
      },
      "source": [
        "train_pred = model.predict(X_train)\n",
        "test_pred = model.predict(X_test)"
      ],
      "execution_count": 17,
      "outputs": []
    },
    {
      "cell_type": "code",
      "metadata": {
        "colab": {
          "base_uri": "https://localhost:8080/"
        },
        "id": "6a9B5vuxC6Se",
        "outputId": "23375caa-333a-45fd-ff03-60a6f81357ea"
      },
      "source": [
        "print('Training data evaluation:\\n----------------------------')\n",
        "print_metrics(y_train, train_pred)\n",
        "print('Test data evaluation:\\n----------------------------')\n",
        "print_metrics(y_test, test_pred)"
      ],
      "execution_count": 18,
      "outputs": [
        {
          "output_type": "stream",
          "text": [
            "Training data evaluation:\n",
            "----------------------------\n",
            "MAE 390.49829714982894\n",
            "MSE 39866179.92028137\n",
            "RMSE 6313.967050934093\n",
            "R2_squared 0.9963284216068522\n",
            "--------------------------------------\n",
            "Test data evaluation:\n",
            "----------------------------\n",
            "MAE 311.18492577240653\n",
            "MSE 5359971.045152342\n",
            "RMSE 2315.1611272549353\n",
            "R2_squared 0.9994681673873835\n",
            "--------------------------------------\n"
          ],
          "name": "stdout"
        }
      ]
    },
    {
      "cell_type": "markdown",
      "metadata": {
        "id": "gL3-9bT2H16Y"
      },
      "source": [
        "An R2_squared score of 1.0 indicates that the data perfectly fits the model. here, as our model's R2_squared score of 0.9994 indicates that our data perfectly fits our model."
      ]
    },
    {
      "cell_type": "code",
      "metadata": {
        "colab": {
          "base_uri": "https://localhost:8080/",
          "height": 306
        },
        "id": "kzP30Cm9DwhG",
        "outputId": "4cbc271e-550f-4ca9-8452-39526c9a5b2f"
      },
      "source": [
        "plt.scatter(y_test, test_pred)"
      ],
      "execution_count": 19,
      "outputs": [
        {
          "output_type": "execute_result",
          "data": {
            "text/plain": [
              "<matplotlib.collections.PathCollection at 0x7f5f837ed350>"
            ]
          },
          "metadata": {
            "tags": []
          },
          "execution_count": 19
        },
        {
          "output_type": "display_data",
          "data": {
            "image/png": "[encoded data removed]",
            "text/plain": [
              "<Figure size 432x288 with 1 Axes>"
            ]
          },
          "metadata": {
            "tags": [],
            "needs_background": "light"
          }
        }
      ]
    },
    {
      "cell_type": "markdown",
      "metadata": {
        "id": "Cu6YuYxAIxvq"
      },
      "source": [
        "Scatter plot also shows the perfect graph and it is highly linear, indicating the best accuracy and best model."
      ]
    },
    {
      "cell_type": "code",
      "metadata": {
        "colab": {
          "base_uri": "https://localhost:8080/",
          "height": 386
        },
        "id": "FSv9xHu-N7Y5",
        "outputId": "32e01d3e-9c42-4b3f-b901-6d3e3a71e6c5"
      },
      "source": [
        "sns.displot((y_test, test_pred), bins = 50)"
      ],
      "execution_count": 20,
      "outputs": [
        {
          "output_type": "execute_result",
          "data": {
            "text/plain": [
              "<seaborn.axisgrid.FacetGrid at 0x7f5f8a18d090>"
            ]
          },
          "metadata": {
            "tags": []
          },
          "execution_count": 20
        },
        {
          "output_type": "display_data",
          "data": {
            "image/png": "[encoded data removed]",
            "text/plain": [
              "<Figure size 430.25x360 with 1 Axes>"
            ]
          },
          "metadata": {
            "tags": [],
            "needs_background": "light"
          }
        }
      ]
    },
    {
      "cell_type": "code",
      "metadata": {
        "id": "AtcIfn9qIq9S",
        "colab": {
          "base_uri": "https://localhost:8080/"
        },
        "outputId": "b0b46df4-c2eb-4983-d7c7-b40b9cf6c958"
      },
      "source": [
        "print(model.intercept_)"
      ],
      "execution_count": 21,
      "outputs": [
        {
          "output_type": "stream",
          "text": [
            "76.8176836028506\n"
          ],
          "name": "stdout"
        }
      ]
    },
    {
      "cell_type": "code",
      "metadata": {
        "colab": {
          "base_uri": "https://localhost:8080/",
          "height": 235
        },
        "id": "jiIXAyF3MPb7",
        "outputId": "ebcf953d-b66a-4778-9111-94967cff1551"
      },
      "source": [
        "coeff_df = pd.DataFrame(model.coef_, X.columns, columns=['Coefficient'])\n",
        "coeff_df"
      ],
      "execution_count": 22,
      "outputs": [
        {
          "output_type": "execute_result",
          "data": {
            "text/html": [
              "<div>\n",
              "<style scoped>\n",
              "    .dataframe tbody tr th:only-of-type {\n",
              "        vertical-align: middle;\n",
              "    }\n",
              "\n",
              "    .dataframe tbody tr th {\n",
              "        vertical-align: top;\n",
              "    }\n",
              "\n",
              "    .dataframe thead th {\n",
              "        text-align: right;\n",
              "    }\n",
              "</style>\n",
              "<table border=\"1\" class=\"dataframe\">\n",
              "  <thead>\n",
              "    <tr style=\"text-align: right;\">\n",
              "      <th></th>\n",
              "      <th>Coefficient</th>\n",
              "    </tr>\n",
              "  </thead>\n",
              "  <tbody>\n",
              "    <tr>\n",
              "      <th>Content URL count</th>\n",
              "      <td>-287.280174</td>\n",
              "    </tr>\n",
              "    <tr>\n",
              "      <th>Followers count</th>\n",
              "      <td>-0.000006</td>\n",
              "    </tr>\n",
              "    <tr>\n",
              "      <th>Listed Count</th>\n",
              "      <td>-0.000829</td>\n",
              "    </tr>\n",
              "    <tr>\n",
              "      <th>Post author verified</th>\n",
              "      <td>399.638523</td>\n",
              "    </tr>\n",
              "    <tr>\n",
              "      <th>Likes</th>\n",
              "      <td>10.009965</td>\n",
              "    </tr>\n",
              "    <tr>\n",
              "      <th>Shares</th>\n",
              "      <td>10.004375</td>\n",
              "    </tr>\n",
              "  </tbody>\n",
              "</table>\n",
              "</div>"
            ],
            "text/plain": [
              "                      Coefficient\n",
              "Content URL count     -287.280174\n",
              "Followers count         -0.000006\n",
              "Listed Count            -0.000829\n",
              "Post author verified   399.638523\n",
              "Likes                   10.009965\n",
              "Shares                  10.004375"
            ]
          },
          "metadata": {
            "tags": []
          },
          "execution_count": 22
        }
      ]
    },
    {
      "cell_type": "markdown",
      "metadata": {
        "id": "iCZeDENIRMgn"
      },
      "source": [
        "The coefficient indicates how much the dependent variable increases (if positive), and decreases (if negative), if the independent variable increases by one.\n",
        "if the post author verified, likes, shares increases by one, the impact of the tweets increases by (399,10,10) times."
      ]
    },
    {
      "cell_type": "markdown",
      "metadata": {
        "id": "N0RvZ_YCUDly"
      },
      "source": [
        "----------------------------------------"
      ]
    },
    {
      "cell_type": "markdown",
      "metadata": {
        "id": "KTBwGum2UHmJ"
      },
      "source": [
        "--------------------------------------------------------------------------"
      ]
    },
    {
      "cell_type": "markdown",
      "metadata": {
        "id": "IZt970bjUKed"
      },
      "source": [
        "DECISION TREE MODEL."
      ]
    },
    {
      "cell_type": "markdown",
      "metadata": {
        "id": "4usX1Q-tmwFA"
      },
      "source": [
        "Importing the model and other required libraries."
      ]
    },
    {
      "cell_type": "code",
      "metadata": {
        "id": "K8Z1ZcVJQd6n"
      },
      "source": [
        "from sklearn.tree import DecisionTreeRegressor"
      ],
      "execution_count": 23,
      "outputs": []
    },
    {
      "cell_type": "code",
      "metadata": {
        "id": "4ASTIFcemluC"
      },
      "source": [
        "sns.set_style('whitegrid')"
      ],
      "execution_count": 24,
      "outputs": []
    },
    {
      "cell_type": "markdown",
      "metadata": {
        "id": "_5V_sEsHm1oO"
      },
      "source": [
        "Training the model."
      ]
    },
    {
      "cell_type": "code",
      "metadata": {
        "id": "aaot2sxNMasF"
      },
      "source": [
        "dtm = DecisionTreeRegressor(max_depth=5, min_samples_split=5, max_leaf_nodes=10)"
      ],
      "execution_count": 25,
      "outputs": []
    },
    {
      "cell_type": "code",
      "metadata": {
        "colab": {
          "base_uri": "https://localhost:8080/"
        },
        "id": "v6ffkR1dn9tS",
        "outputId": "82d4872d-7e4c-42d8-9211-0cd748e77aac"
      },
      "source": [
        "dtm.fit(X_train,y_train)\n"
      ],
      "execution_count": 26,
      "outputs": [
        {
          "output_type": "execute_result",
          "data": {
            "text/plain": [
              "DecisionTreeRegressor(ccp_alpha=0.0, criterion='mse', max_depth=5,\n",
              "                      max_features=None, max_leaf_nodes=10,\n",
              "                      min_impurity_decrease=0.0, min_impurity_split=None,\n",
              "                      min_samples_leaf=1, min_samples_split=5,\n",
              "                      min_weight_fraction_leaf=0.0, presort='deprecated',\n",
              "                      random_state=None, splitter='best')"
            ]
          },
          "metadata": {
            "tags": []
          },
          "execution_count": 26
        }
      ]
    },
    {
      "cell_type": "markdown",
      "metadata": {
        "id": "GMLeutlOeX3C"
      },
      "source": [
        "Predicting the model scores."
      ]
    },
    {
      "cell_type": "code",
      "metadata": {
        "id": "RdXl422aoCBm"
      },
      "source": [
        "train_dtm_pred = dtm.predict(X_train)\n",
        "test_dtm_pred = dtm.predict(X_test)"
      ],
      "execution_count": 27,
      "outputs": []
    },
    {
      "cell_type": "code",
      "metadata": {
        "colab": {
          "base_uri": "https://localhost:8080/"
        },
        "id": "gcWMIPMAdaBj",
        "outputId": "7555ab08-7769-44f8-d329-07f97ab84a4d"
      },
      "source": [
        "print('Training data evaluation:\\n----------------------------')\n",
        "print_metrics(y_train, train_dtm_pred)\n",
        "print('Test data evaluation:\\n----------------------------')\n",
        "print_metrics(y_test, test_dtm_pred)"
      ],
      "execution_count": 28,
      "outputs": [
        {
          "output_type": "stream",
          "text": [
            "Training data evaluation:\n",
            "----------------------------\n",
            "MAE 9297.597976476207\n",
            "MSE 543755944.42697\n",
            "RMSE 23318.575094267017\n",
            "R2_squared 0.9499213975179979\n",
            "--------------------------------------\n",
            "Test data evaluation:\n",
            "----------------------------\n",
            "MAE 9125.75120292198\n",
            "MSE 446548036.65582645\n",
            "RMSE 21131.68324236918\n",
            "R2_squared 0.9556921470297507\n",
            "--------------------------------------\n"
          ],
          "name": "stdout"
        }
      ]
    },
    {
      "cell_type": "markdown",
      "metadata": {
        "id": "mbBMHQTto5Zj"
      },
      "source": [
        "\n",
        "It seems like, data pretty much fits the model, as we are having good R2 score in both data sets."
      ]
    },
    {
      "cell_type": "markdown",
      "metadata": {
        "id": "XqoNZuTjd40G"
      },
      "source": [
        "-------------------------------------------------------------------------------"
      ]
    },
    {
      "cell_type": "markdown",
      "metadata": {
        "id": "DFDKlJe6d6gI"
      },
      "source": [
        "--------------------------------------------------------------------------------"
      ]
    },
    {
      "cell_type": "markdown",
      "metadata": {
        "id": "mAyQ6tesd_L_"
      },
      "source": [
        "RANDOM FOREST REGRESSOR."
      ]
    },
    {
      "cell_type": "markdown",
      "metadata": {
        "id": "RNx4vnDoeRm2"
      },
      "source": [
        "Importing the required libraries."
      ]
    },
    {
      "cell_type": "code",
      "metadata": {
        "id": "zVvrmeaTZnLP"
      },
      "source": [
        "from sklearn.ensemble import RandomForestRegressor"
      ],
      "execution_count": 29,
      "outputs": []
    },
    {
      "cell_type": "code",
      "metadata": {
        "id": "E7vym68HegTj"
      },
      "source": [
        "rf = RandomForestRegressor(n_estimators=1000)"
      ],
      "execution_count": 30,
      "outputs": []
    },
    {
      "cell_type": "code",
      "metadata": {
        "id": "VnIVYFnAeor4",
        "colab": {
          "base_uri": "https://localhost:8080/"
        },
        "outputId": "b09bd530-345d-4839-b906-039135045482"
      },
      "source": [
        "rf.fit(X_train,y_train)"
      ],
      "execution_count": 31,
      "outputs": [
        {
          "output_type": "execute_result",
          "data": {
            "text/plain": [
              "RandomForestRegressor(bootstrap=True, ccp_alpha=0.0, criterion='mse',\n",
              "                      max_depth=None, max_features='auto', max_leaf_nodes=None,\n",
              "                      max_samples=None, min_impurity_decrease=0.0,\n",
              "                      min_impurity_split=None, min_samples_leaf=1,\n",
              "                      min_samples_split=2, min_weight_fraction_leaf=0.0,\n",
              "                      n_estimators=1000, n_jobs=None, oob_score=False,\n",
              "                      random_state=None, verbose=0, warm_start=False)"
            ]
          },
          "metadata": {
            "tags": []
          },
          "execution_count": 31
        }
      ]
    },
    {
      "cell_type": "code",
      "metadata": {
        "id": "UDH5cMWxetFo"
      },
      "source": [
        "train_rf_pred = rf.predict(X_train)\n",
        "test_rf_pred = rf.predict(X_test)"
      ],
      "execution_count": 34,
      "outputs": []
    },
    {
      "cell_type": "code",
      "metadata": {
        "colab": {
          "base_uri": "https://localhost:8080/"
        },
        "id": "mKmuiipnF1K2",
        "outputId": "b71130c7-15ee-4140-e78d-8168ed652ce2"
      },
      "source": [
        "print('Training data evaluation:\\n----------------------------')\n",
        "print_metrics(y_train, train_rf_pred)\n",
        "print('Test data evaluation:\\n----------------------------')\n",
        "print_metrics(y_test, test_rf_pred)"
      ],
      "execution_count": 35,
      "outputs": [
        {
          "output_type": "stream",
          "text": [
            "Training data evaluation:\n",
            "----------------------------\n",
            "MAE 214.1747494558196\n",
            "MSE 4507666.964254432\n",
            "RMSE 2123.126695290329\n",
            "R2_squared 0.9995848548152204\n",
            "--------------------------------------\n",
            "Test data evaluation:\n",
            "----------------------------\n",
            "MAE 489.73985983942964\n",
            "MSE 13605186.139588151\n",
            "RMSE 3688.520860668698\n",
            "R2_squared 0.99865005209379\n",
            "--------------------------------------\n"
          ],
          "name": "stdout"
        }
      ]
    },
    {
      "cell_type": "markdown",
      "metadata": {
        "id": "LvO7qkoRGUOF"
      },
      "source": [
        "Random Forest Regressor gives the good results of test data as R2_score is 0.998, which means it is a good fit for the model."
      ]
    },
    {
      "cell_type": "markdown",
      "metadata": {
        "id": "0vx-JVYkGnBF"
      },
      "source": [
        "--------------------------------------------------------------------------------"
      ]
    },
    {
      "cell_type": "markdown",
      "metadata": {
        "id": "-wXg64pEGly4"
      },
      "source": [
        "------------------------------------------------------------------------------"
      ]
    },
    {
      "cell_type": "markdown",
      "metadata": {
        "id": "GOUWg7jvGpeJ"
      },
      "source": [
        "Artificial Neural Networks"
      ]
    },
    {
      "cell_type": "markdown",
      "metadata": {
        "id": "UtkSRbbIGsss"
      },
      "source": [
        "Importing the required libraries."
      ]
    },
    {
      "cell_type": "code",
      "metadata": {
        "id": "fomABpDHF9SB"
      },
      "source": [
        "from tensorflow.keras.models import Sequential\n",
        "from tensorflow.keras.layers import Dense, Dropout\n",
        "from tensorflow.keras.optimizers import Adam"
      ],
      "execution_count": 77,
      "outputs": []
    },
    {
      "cell_type": "code",
      "metadata": {
        "id": "AKIeNk5WIuL6"
      },
      "source": [
        "X_train = np.array(X_train)\n",
        "X_test = np.array(X_test)\n",
        "y_train = np.array(y_train)\n",
        "y_test = np.array(y_test)"
      ],
      "execution_count": 78,
      "outputs": []
    },
    {
      "cell_type": "code",
      "metadata": {
        "id": "-OtfSoPmH4Ra"
      },
      "source": [
        "model = Sequential()\n",
        "\n",
        "model.add(Dense(6,activation='relu'))\n",
        "\n",
        "model.add(Dense(32,activation='relu'))\n",
        "\n",
        "model.add(Dense(64,activation='relu'))\n",
        "\n",
        "model.add(Dense(128,activation='relu'))\n",
        "\n",
        "model.add(Dense(512,activation='relu'))\n",
        "\n",
        "model.add(Dropout(0.1))\n",
        "\n",
        "model.add(Dense(1))\n",
        "\n",
        "model.compile(optimizer=Adam(learning_rate=0.0005),loss='mse')"
      ],
      "execution_count": 81,
      "outputs": []
    },
    {
      "cell_type": "code",
      "metadata": {
        "colab": {
          "base_uri": "https://localhost:8080/"
        },
        "id": "alHeBRkZJxq1",
        "outputId": "416b30c1-b158-4303-ca71-bb34b5e9a845"
      },
      "source": [
        "model.fit(X_train, y_train, validation_data=(X_test,y_test),batch_size=256, epochs=200)"
      ],
      "execution_count": 89,
      "outputs": [
        {
          "output_type": "stream",
          "text": [
            "Epoch 1/200\n",
            "137/137 [==============================] - 2s 10ms/step - loss: 219152048.0000 - val_loss: 9390925.0000\n",
            "Epoch 2/200\n",
            "137/137 [==============================] - 1s 8ms/step - loss: 121870304.0000 - val_loss: 14394918.0000\n",
            "Epoch 3/200\n",
            "137/137 [==============================] - 1s 9ms/step - loss: 122927328.0000 - val_loss: 516842048.0000\n",
            "Epoch 4/200\n",
            "137/137 [==============================] - 1s 9ms/step - loss: 469401344.0000 - val_loss: 2556896256.0000\n",
            "Epoch 5/200\n",
            "137/137 [==============================] - 1s 8ms/step - loss: 686001088.0000 - val_loss: 14003909.0000\n",
            "Epoch 6/200\n",
            "137/137 [==============================] - 1s 8ms/step - loss: 60609724.0000 - val_loss: 9165858.0000\n",
            "Epoch 7/200\n",
            "137/137 [==============================] - 1s 8ms/step - loss: 58404716.0000 - val_loss: 11046266.0000\n",
            "Epoch 8/200\n",
            "137/137 [==============================] - 1s 9ms/step - loss: 60447932.0000 - val_loss: 47953696.0000\n",
            "Epoch 9/200\n",
            "137/137 [==============================] - 1s 9ms/step - loss: 81789688.0000 - val_loss: 7623756.5000\n",
            "Epoch 10/200\n",
            "137/137 [==============================] - 1s 9ms/step - loss: 119023144.0000 - val_loss: 23115070.0000\n",
            "Epoch 11/200\n",
            "137/137 [==============================] - 1s 9ms/step - loss: 112382824.0000 - val_loss: 78692472.0000\n",
            "Epoch 12/200\n",
            "137/137 [==============================] - 1s 9ms/step - loss: 136819152.0000 - val_loss: 39795232.0000\n",
            "Epoch 13/200\n",
            "137/137 [==============================] - 1s 9ms/step - loss: 74963376.0000 - val_loss: 32829348.0000\n",
            "Epoch 14/200\n",
            "137/137 [==============================] - 1s 9ms/step - loss: 78529096.0000 - val_loss: 10347565.0000\n",
            "Epoch 15/200\n",
            "137/137 [==============================] - 1s 9ms/step - loss: 82785416.0000 - val_loss: 11541900.0000\n",
            "Epoch 16/200\n",
            "137/137 [==============================] - 1s 8ms/step - loss: 107471400.0000 - val_loss: 26852114.0000\n",
            "Epoch 17/200\n",
            "137/137 [==============================] - 1s 9ms/step - loss: 971108672.0000 - val_loss: 71485992.0000\n",
            "Epoch 18/200\n",
            "137/137 [==============================] - 1s 8ms/step - loss: 68729848.0000 - val_loss: 12194340.0000\n",
            "Epoch 19/200\n",
            "137/137 [==============================] - 1s 9ms/step - loss: 64602084.0000 - val_loss: 9500862.0000\n",
            "Epoch 20/200\n",
            "137/137 [==============================] - 1s 8ms/step - loss: 79025656.0000 - val_loss: 62244724.0000\n",
            "Epoch 21/200\n",
            "137/137 [==============================] - 1s 9ms/step - loss: 73610840.0000 - val_loss: 7795760.0000\n",
            "Epoch 22/200\n",
            "137/137 [==============================] - 1s 9ms/step - loss: 64056220.0000 - val_loss: 8008179.0000\n",
            "Epoch 23/200\n",
            "137/137 [==============================] - 1s 8ms/step - loss: 67329816.0000 - val_loss: 13513824.0000\n",
            "Epoch 24/200\n",
            "137/137 [==============================] - 1s 9ms/step - loss: 280740352.0000 - val_loss: 99260920.0000\n",
            "Epoch 25/200\n",
            "137/137 [==============================] - 1s 9ms/step - loss: 77527656.0000 - val_loss: 8913170.0000\n",
            "Epoch 26/200\n",
            "137/137 [==============================] - 1s 9ms/step - loss: 71467952.0000 - val_loss: 10941984.0000\n",
            "Epoch 27/200\n",
            "137/137 [==============================] - 1s 8ms/step - loss: 77277848.0000 - val_loss: 235335488.0000\n",
            "Epoch 28/200\n",
            "137/137 [==============================] - 1s 9ms/step - loss: 162750656.0000 - val_loss: 37892408.0000\n",
            "Epoch 29/200\n",
            "137/137 [==============================] - 1s 9ms/step - loss: 98345608.0000 - val_loss: 160033984.0000\n",
            "Epoch 30/200\n",
            "137/137 [==============================] - 1s 9ms/step - loss: 75992024.0000 - val_loss: 11249326.0000\n",
            "Epoch 31/200\n",
            "137/137 [==============================] - 1s 8ms/step - loss: 91084176.0000 - val_loss: 14542670.0000\n",
            "Epoch 32/200\n",
            "137/137 [==============================] - 1s 8ms/step - loss: 80011760.0000 - val_loss: 17025392.0000\n",
            "Epoch 33/200\n",
            "137/137 [==============================] - 1s 9ms/step - loss: 218999888.0000 - val_loss: 151111424.0000\n",
            "Epoch 34/200\n",
            "137/137 [==============================] - 1s 9ms/step - loss: 73319224.0000 - val_loss: 8415074.0000\n",
            "Epoch 35/200\n",
            "137/137 [==============================] - 1s 10ms/step - loss: 57739612.0000 - val_loss: 24428410.0000\n",
            "Epoch 36/200\n",
            "137/137 [==============================] - 1s 9ms/step - loss: 151134384.0000 - val_loss: 49030556.0000\n",
            "Epoch 37/200\n",
            "137/137 [==============================] - 1s 9ms/step - loss: 304539680.0000 - val_loss: 23785216.0000\n",
            "Epoch 38/200\n",
            "137/137 [==============================] - 1s 8ms/step - loss: 72280936.0000 - val_loss: 9528635.0000\n",
            "Epoch 39/200\n",
            "137/137 [==============================] - 1s 9ms/step - loss: 62077536.0000 - val_loss: 10141555.0000\n",
            "Epoch 40/200\n",
            "137/137 [==============================] - 1s 9ms/step - loss: 72615416.0000 - val_loss: 9219355.0000\n",
            "Epoch 41/200\n",
            "137/137 [==============================] - 1s 8ms/step - loss: 62384228.0000 - val_loss: 8970343.0000\n",
            "Epoch 42/200\n",
            "137/137 [==============================] - 1s 9ms/step - loss: 63094608.0000 - val_loss: 15213036.0000\n",
            "Epoch 43/200\n",
            "137/137 [==============================] - 1s 9ms/step - loss: 101307560.0000 - val_loss: 14744996.0000\n",
            "Epoch 44/200\n",
            "137/137 [==============================] - 1s 9ms/step - loss: 159416768.0000 - val_loss: 78124808.0000\n",
            "Epoch 45/200\n",
            "137/137 [==============================] - 1s 8ms/step - loss: 86817880.0000 - val_loss: 8512527.0000\n",
            "Epoch 46/200\n",
            "137/137 [==============================] - 1s 9ms/step - loss: 68293440.0000 - val_loss: 10105258.0000\n",
            "Epoch 47/200\n",
            "137/137 [==============================] - 1s 9ms/step - loss: 61421248.0000 - val_loss: 24835466.0000\n",
            "Epoch 48/200\n",
            "137/137 [==============================] - 1s 8ms/step - loss: 85730616.0000 - val_loss: 16304793.0000\n",
            "Epoch 49/200\n",
            "137/137 [==============================] - 1s 8ms/step - loss: 68819736.0000 - val_loss: 13785740.0000\n",
            "Epoch 50/200\n",
            "137/137 [==============================] - 1s 8ms/step - loss: 105270920.0000 - val_loss: 11159060.0000\n",
            "Epoch 51/200\n",
            "137/137 [==============================] - 1s 8ms/step - loss: 57444308.0000 - val_loss: 13209631.0000\n",
            "Epoch 52/200\n",
            "137/137 [==============================] - 1s 9ms/step - loss: 60881956.0000 - val_loss: 13257614.0000\n",
            "Epoch 53/200\n",
            "137/137 [==============================] - 1s 9ms/step - loss: 65639488.0000 - val_loss: 177897712.0000\n",
            "Epoch 54/200\n",
            "137/137 [==============================] - 1s 9ms/step - loss: 199417968.0000 - val_loss: 14264597.0000\n",
            "Epoch 55/200\n",
            "137/137 [==============================] - 1s 8ms/step - loss: 60458504.0000 - val_loss: 18150846.0000\n",
            "Epoch 56/200\n",
            "137/137 [==============================] - 1s 8ms/step - loss: 59106792.0000 - val_loss: 34036464.0000\n",
            "Epoch 57/200\n",
            "137/137 [==============================] - 1s 8ms/step - loss: 104185352.0000 - val_loss: 301039776.0000\n",
            "Epoch 58/200\n",
            "137/137 [==============================] - 1s 9ms/step - loss: 110239680.0000 - val_loss: 11555053.0000\n",
            "Epoch 59/200\n",
            "137/137 [==============================] - 1s 9ms/step - loss: 60662432.0000 - val_loss: 36634192.0000\n",
            "Epoch 60/200\n",
            "137/137 [==============================] - 1s 8ms/step - loss: 334347648.0000 - val_loss: 1405884416.0000\n",
            "Epoch 61/200\n",
            "137/137 [==============================] - 1s 9ms/step - loss: 185548288.0000 - val_loss: 131896416.0000\n",
            "Epoch 62/200\n",
            "137/137 [==============================] - 1s 10ms/step - loss: 78327400.0000 - val_loss: 13371609.0000\n",
            "Epoch 63/200\n",
            "137/137 [==============================] - 1s 10ms/step - loss: 62639952.0000 - val_loss: 11524613.0000\n",
            "Epoch 64/200\n",
            "137/137 [==============================] - 1s 9ms/step - loss: 61932388.0000 - val_loss: 14270898.0000\n",
            "Epoch 65/200\n",
            "137/137 [==============================] - 1s 9ms/step - loss: 68878512.0000 - val_loss: 9287247.0000\n",
            "Epoch 66/200\n",
            "137/137 [==============================] - 1s 9ms/step - loss: 102471848.0000 - val_loss: 14637601.0000\n",
            "Epoch 67/200\n",
            "137/137 [==============================] - 1s 9ms/step - loss: 57736904.0000 - val_loss: 12210730.0000\n",
            "Epoch 68/200\n",
            "137/137 [==============================] - 1s 10ms/step - loss: 63075076.0000 - val_loss: 6945786.0000\n",
            "Epoch 69/200\n",
            "137/137 [==============================] - 1s 9ms/step - loss: 93494448.0000 - val_loss: 27888694.0000\n",
            "Epoch 70/200\n",
            "137/137 [==============================] - 1s 9ms/step - loss: 83375064.0000 - val_loss: 12793161.0000\n",
            "Epoch 71/200\n",
            "137/137 [==============================] - 1s 9ms/step - loss: 84538856.0000 - val_loss: 8234606.5000\n",
            "Epoch 72/200\n",
            "137/137 [==============================] - 1s 9ms/step - loss: 77049176.0000 - val_loss: 17141082.0000\n",
            "Epoch 73/200\n",
            "137/137 [==============================] - 1s 8ms/step - loss: 135784816.0000 - val_loss: 38994200.0000\n",
            "Epoch 74/200\n",
            "137/137 [==============================] - 1s 9ms/step - loss: 77854112.0000 - val_loss: 205199680.0000\n",
            "Epoch 75/200\n",
            "137/137 [==============================] - 1s 9ms/step - loss: 141531072.0000 - val_loss: 28553942.0000\n",
            "Epoch 76/200\n",
            "137/137 [==============================] - 1s 9ms/step - loss: 90667976.0000 - val_loss: 63159756.0000\n",
            "Epoch 77/200\n",
            "137/137 [==============================] - 1s 9ms/step - loss: 172776384.0000 - val_loss: 37066856.0000\n",
            "Epoch 78/200\n",
            "137/137 [==============================] - 1s 8ms/step - loss: 161817264.0000 - val_loss: 13693541.0000\n",
            "Epoch 79/200\n",
            "137/137 [==============================] - 1s 9ms/step - loss: 58715684.0000 - val_loss: 10814740.0000\n",
            "Epoch 80/200\n",
            "137/137 [==============================] - 1s 9ms/step - loss: 81302952.0000 - val_loss: 83120744.0000\n",
            "Epoch 81/200\n",
            "137/137 [==============================] - 1s 9ms/step - loss: 61333520.0000 - val_loss: 5903852.0000\n",
            "Epoch 82/200\n",
            "137/137 [==============================] - 1s 9ms/step - loss: 80825840.0000 - val_loss: 175288448.0000\n",
            "Epoch 83/200\n",
            "137/137 [==============================] - 1s 9ms/step - loss: 85480288.0000 - val_loss: 8268953.0000\n",
            "Epoch 84/200\n",
            "137/137 [==============================] - 1s 9ms/step - loss: 67892296.0000 - val_loss: 10454562.0000\n",
            "Epoch 85/200\n",
            "137/137 [==============================] - 1s 10ms/step - loss: 84570168.0000 - val_loss: 77367064.0000\n",
            "Epoch 86/200\n",
            "137/137 [==============================] - 1s 9ms/step - loss: 138476496.0000 - val_loss: 514410752.0000\n",
            "Epoch 87/200\n",
            "137/137 [==============================] - 1s 9ms/step - loss: 133651320.0000 - val_loss: 7952011.5000\n",
            "Epoch 88/200\n",
            "137/137 [==============================] - 1s 9ms/step - loss: 61185460.0000 - val_loss: 7273567.5000\n",
            "Epoch 89/200\n",
            "137/137 [==============================] - 1s 9ms/step - loss: 59586096.0000 - val_loss: 100760768.0000\n",
            "Epoch 90/200\n",
            "137/137 [==============================] - 1s 9ms/step - loss: 70732312.0000 - val_loss: 8097661.0000\n",
            "Epoch 91/200\n",
            "137/137 [==============================] - 1s 9ms/step - loss: 81595704.0000 - val_loss: 10145113.0000\n",
            "Epoch 92/200\n",
            "137/137 [==============================] - 1s 9ms/step - loss: 65970036.0000 - val_loss: 17585730.0000\n",
            "Epoch 93/200\n",
            "137/137 [==============================] - 1s 9ms/step - loss: 61345684.0000 - val_loss: 12428767.0000\n",
            "Epoch 94/200\n",
            "137/137 [==============================] - 1s 9ms/step - loss: 66328268.0000 - val_loss: 95092984.0000\n",
            "Epoch 95/200\n",
            "137/137 [==============================] - 1s 9ms/step - loss: 102477256.0000 - val_loss: 10510416.0000\n",
            "Epoch 96/200\n",
            "137/137 [==============================] - 1s 9ms/step - loss: 178444544.0000 - val_loss: 55917496.0000\n",
            "Epoch 97/200\n",
            "137/137 [==============================] - 1s 9ms/step - loss: 73158528.0000 - val_loss: 9859935.0000\n",
            "Epoch 98/200\n",
            "137/137 [==============================] - 1s 8ms/step - loss: 100933288.0000 - val_loss: 242397712.0000\n",
            "Epoch 99/200\n",
            "137/137 [==============================] - 1s 9ms/step - loss: 178701104.0000 - val_loss: 46047640.0000\n",
            "Epoch 100/200\n",
            "137/137 [==============================] - 1s 9ms/step - loss: 148290912.0000 - val_loss: 10336379.0000\n",
            "Epoch 101/200\n",
            "137/137 [==============================] - 1s 10ms/step - loss: 58924236.0000 - val_loss: 30891278.0000\n",
            "Epoch 102/200\n",
            "137/137 [==============================] - 1s 9ms/step - loss: 60148340.0000 - val_loss: 8003301.0000\n",
            "Epoch 103/200\n",
            "137/137 [==============================] - 1s 10ms/step - loss: 168892720.0000 - val_loss: 405060928.0000\n",
            "Epoch 104/200\n",
            "137/137 [==============================] - 1s 9ms/step - loss: 138168864.0000 - val_loss: 15031459.0000\n",
            "Epoch 105/200\n",
            "137/137 [==============================] - 1s 9ms/step - loss: 56642436.0000 - val_loss: 7524575.0000\n",
            "Epoch 106/200\n",
            "137/137 [==============================] - 1s 9ms/step - loss: 56813740.0000 - val_loss: 15947397.0000\n",
            "Epoch 107/200\n",
            "137/137 [==============================] - 1s 9ms/step - loss: 59274284.0000 - val_loss: 8282829.5000\n",
            "Epoch 108/200\n",
            "137/137 [==============================] - 1s 9ms/step - loss: 63782556.0000 - val_loss: 34394472.0000\n",
            "Epoch 109/200\n",
            "137/137 [==============================] - 1s 9ms/step - loss: 152552512.0000 - val_loss: 10529767.0000\n",
            "Epoch 110/200\n",
            "137/137 [==============================] - 1s 9ms/step - loss: 60387920.0000 - val_loss: 8621961.0000\n",
            "Epoch 111/200\n",
            "137/137 [==============================] - 1s 10ms/step - loss: 83724424.0000 - val_loss: 13038866.0000\n",
            "Epoch 112/200\n",
            "137/137 [==============================] - 1s 9ms/step - loss: 58756808.0000 - val_loss: 23403062.0000\n",
            "Epoch 113/200\n",
            "137/137 [==============================] - 1s 10ms/step - loss: 69079672.0000 - val_loss: 57447392.0000\n",
            "Epoch 114/200\n",
            "137/137 [==============================] - 1s 8ms/step - loss: 60867388.0000 - val_loss: 19497202.0000\n",
            "Epoch 115/200\n",
            "137/137 [==============================] - 1s 9ms/step - loss: 109853544.0000 - val_loss: 9890296.0000\n",
            "Epoch 116/200\n",
            "137/137 [==============================] - 1s 9ms/step - loss: 85403152.0000 - val_loss: 74534456.0000\n",
            "Epoch 117/200\n",
            "137/137 [==============================] - 1s 10ms/step - loss: 82253552.0000 - val_loss: 9558048.0000\n",
            "Epoch 118/200\n",
            "137/137 [==============================] - 1s 9ms/step - loss: 63087440.0000 - val_loss: 98804888.0000\n",
            "Epoch 119/200\n",
            "137/137 [==============================] - 1s 9ms/step - loss: 68213632.0000 - val_loss: 21882546.0000\n",
            "Epoch 120/200\n",
            "137/137 [==============================] - 1s 9ms/step - loss: 65192740.0000 - val_loss: 8138816.5000\n",
            "Epoch 121/200\n",
            "137/137 [==============================] - 1s 9ms/step - loss: 62542104.0000 - val_loss: 7025317.0000\n",
            "Epoch 122/200\n",
            "137/137 [==============================] - 1s 9ms/step - loss: 71526904.0000 - val_loss: 8287000.0000\n",
            "Epoch 123/200\n",
            "137/137 [==============================] - 1s 9ms/step - loss: 108172832.0000 - val_loss: 393121440.0000\n",
            "Epoch 124/200\n",
            "137/137 [==============================] - 1s 9ms/step - loss: 137398416.0000 - val_loss: 11394859.0000\n",
            "Epoch 125/200\n",
            "137/137 [==============================] - 1s 9ms/step - loss: 117881824.0000 - val_loss: 22863496.0000\n",
            "Epoch 126/200\n",
            "137/137 [==============================] - 1s 9ms/step - loss: 67889512.0000 - val_loss: 26526922.0000\n",
            "Epoch 127/200\n",
            "137/137 [==============================] - 1s 10ms/step - loss: 364523040.0000 - val_loss: 1208386816.0000\n",
            "Epoch 128/200\n",
            "137/137 [==============================] - 1s 9ms/step - loss: 114847608.0000 - val_loss: 9454564.0000\n",
            "Epoch 129/200\n",
            "137/137 [==============================] - 1s 9ms/step - loss: 62832816.0000 - val_loss: 13307615.0000\n",
            "Epoch 130/200\n",
            "137/137 [==============================] - 1s 9ms/step - loss: 66262956.0000 - val_loss: 15081109.0000\n",
            "Epoch 131/200\n",
            "137/137 [==============================] - 1s 10ms/step - loss: 58613232.0000 - val_loss: 20763104.0000\n",
            "Epoch 132/200\n",
            "137/137 [==============================] - 1s 10ms/step - loss: 67624448.0000 - val_loss: 13947488.0000\n",
            "Epoch 133/200\n",
            "137/137 [==============================] - 1s 9ms/step - loss: 56828368.0000 - val_loss: 11276601.0000\n",
            "Epoch 134/200\n",
            "137/137 [==============================] - 1s 9ms/step - loss: 64485484.0000 - val_loss: 13741819.0000\n",
            "Epoch 135/200\n",
            "137/137 [==============================] - 1s 9ms/step - loss: 66298284.0000 - val_loss: 323828480.0000\n",
            "Epoch 136/200\n",
            "137/137 [==============================] - 1s 9ms/step - loss: 102513096.0000 - val_loss: 6385809.5000\n",
            "Epoch 137/200\n",
            "137/137 [==============================] - 1s 10ms/step - loss: 62480328.0000 - val_loss: 9202352.0000\n",
            "Epoch 138/200\n",
            "137/137 [==============================] - 1s 9ms/step - loss: 66875212.0000 - val_loss: 12720641.0000\n",
            "Epoch 139/200\n",
            "137/137 [==============================] - 1s 10ms/step - loss: 73018320.0000 - val_loss: 6709848.0000\n",
            "Epoch 140/200\n",
            "137/137 [==============================] - 1s 9ms/step - loss: 130419248.0000 - val_loss: 130127344.0000\n",
            "Epoch 141/200\n",
            "137/137 [==============================] - 1s 9ms/step - loss: 71566792.0000 - val_loss: 7679151.5000\n",
            "Epoch 142/200\n",
            "137/137 [==============================] - 1s 9ms/step - loss: 59647604.0000 - val_loss: 19021610.0000\n",
            "Epoch 143/200\n",
            "137/137 [==============================] - 1s 10ms/step - loss: 191915536.0000 - val_loss: 63771420.0000\n",
            "Epoch 144/200\n",
            "137/137 [==============================] - 1s 9ms/step - loss: 79510736.0000 - val_loss: 7909455.5000\n",
            "Epoch 145/200\n",
            "137/137 [==============================] - 1s 9ms/step - loss: 65774844.0000 - val_loss: 24658410.0000\n",
            "Epoch 146/200\n",
            "137/137 [==============================] - 1s 9ms/step - loss: 86618680.0000 - val_loss: 84499560.0000\n",
            "Epoch 147/200\n",
            "137/137 [==============================] - 1s 9ms/step - loss: 74378744.0000 - val_loss: 13082152.0000\n",
            "Epoch 148/200\n",
            "137/137 [==============================] - 1s 9ms/step - loss: 61654536.0000 - val_loss: 14000613.0000\n",
            "Epoch 149/200\n",
            "137/137 [==============================] - 1s 9ms/step - loss: 84202688.0000 - val_loss: 206065328.0000\n",
            "Epoch 150/200\n",
            "137/137 [==============================] - 1s 10ms/step - loss: 94653968.0000 - val_loss: 1017412352.0000\n",
            "Epoch 151/200\n",
            "137/137 [==============================] - 1s 10ms/step - loss: 420120960.0000 - val_loss: 14251124.0000\n",
            "Epoch 152/200\n",
            "137/137 [==============================] - 1s 9ms/step - loss: 57901216.0000 - val_loss: 20074440.0000\n",
            "Epoch 153/200\n",
            "137/137 [==============================] - 1s 9ms/step - loss: 111227104.0000 - val_loss: 47782296.0000\n",
            "Epoch 154/200\n",
            "137/137 [==============================] - 1s 9ms/step - loss: 142054960.0000 - val_loss: 95668000.0000\n",
            "Epoch 155/200\n",
            "137/137 [==============================] - 1s 9ms/step - loss: 113136472.0000 - val_loss: 11621177.0000\n",
            "Epoch 156/200\n",
            "137/137 [==============================] - 1s 9ms/step - loss: 67377432.0000 - val_loss: 8749787.0000\n",
            "Epoch 157/200\n",
            "137/137 [==============================] - 1s 9ms/step - loss: 61475732.0000 - val_loss: 10758383.0000\n",
            "Epoch 158/200\n",
            "137/137 [==============================] - 1s 9ms/step - loss: 66195052.0000 - val_loss: 14907318.0000\n",
            "Epoch 159/200\n",
            "137/137 [==============================] - 1s 9ms/step - loss: 74837856.0000 - val_loss: 7764750.5000\n",
            "Epoch 160/200\n",
            "137/137 [==============================] - 1s 10ms/step - loss: 68924360.0000 - val_loss: 9464890.0000\n",
            "Epoch 161/200\n",
            "137/137 [==============================] - 1s 9ms/step - loss: 64032932.0000 - val_loss: 7779522.5000\n",
            "Epoch 162/200\n",
            "137/137 [==============================] - 1s 9ms/step - loss: 71777336.0000 - val_loss: 53113992.0000\n",
            "Epoch 163/200\n",
            "137/137 [==============================] - 1s 9ms/step - loss: 141167040.0000 - val_loss: 64719176.0000\n",
            "Epoch 164/200\n",
            "137/137 [==============================] - 1s 9ms/step - loss: 59592940.0000 - val_loss: 19377646.0000\n",
            "Epoch 165/200\n",
            "137/137 [==============================] - 1s 9ms/step - loss: 150134080.0000 - val_loss: 37085404.0000\n",
            "Epoch 166/200\n",
            "137/137 [==============================] - 1s 9ms/step - loss: 83781752.0000 - val_loss: 11518783.0000\n",
            "Epoch 167/200\n",
            "137/137 [==============================] - 1s 9ms/step - loss: 61296384.0000 - val_loss: 20235700.0000\n",
            "Epoch 168/200\n",
            "137/137 [==============================] - 1s 10ms/step - loss: 68638720.0000 - val_loss: 16223900.0000\n",
            "Epoch 169/200\n",
            "137/137 [==============================] - 1s 9ms/step - loss: 62109776.0000 - val_loss: 52492488.0000\n",
            "Epoch 170/200\n",
            "137/137 [==============================] - 1s 9ms/step - loss: 146989024.0000 - val_loss: 8098269.5000\n",
            "Epoch 171/200\n",
            "137/137 [==============================] - 1s 10ms/step - loss: 54864956.0000 - val_loss: 6880201.0000\n",
            "Epoch 172/200\n",
            "137/137 [==============================] - 1s 10ms/step - loss: 55007568.0000 - val_loss: 6747706.0000\n",
            "Epoch 173/200\n",
            "137/137 [==============================] - 1s 10ms/step - loss: 60053216.0000 - val_loss: 24256138.0000\n",
            "Epoch 174/200\n",
            "137/137 [==============================] - 1s 10ms/step - loss: 64411388.0000 - val_loss: 12982551.0000\n",
            "Epoch 175/200\n",
            "137/137 [==============================] - 1s 10ms/step - loss: 93684072.0000 - val_loss: 251296432.0000\n",
            "Epoch 176/200\n",
            "137/137 [==============================] - 1s 9ms/step - loss: 86389800.0000 - val_loss: 9613698.0000\n",
            "Epoch 177/200\n",
            "137/137 [==============================] - 1s 9ms/step - loss: 77716592.0000 - val_loss: 9163225.0000\n",
            "Epoch 178/200\n",
            "137/137 [==============================] - 1s 9ms/step - loss: 62797164.0000 - val_loss: 14359260.0000\n",
            "Epoch 179/200\n",
            "137/137 [==============================] - 1s 9ms/step - loss: 66804536.0000 - val_loss: 16269761.0000\n",
            "Epoch 180/200\n",
            "137/137 [==============================] - 1s 10ms/step - loss: 70322408.0000 - val_loss: 10259558.0000\n",
            "Epoch 181/200\n",
            "137/137 [==============================] - 1s 9ms/step - loss: 67828576.0000 - val_loss: 10743047.0000\n",
            "Epoch 182/200\n",
            "137/137 [==============================] - 1s 10ms/step - loss: 90949560.0000 - val_loss: 216251856.0000\n",
            "Epoch 183/200\n",
            "137/137 [==============================] - 1s 9ms/step - loss: 80443864.0000 - val_loss: 8591476.0000\n",
            "Epoch 184/200\n",
            "137/137 [==============================] - 1s 10ms/step - loss: 61006088.0000 - val_loss: 6104456.0000\n",
            "Epoch 185/200\n",
            "137/137 [==============================] - 1s 10ms/step - loss: 207037568.0000 - val_loss: 147842624.0000\n",
            "Epoch 186/200\n",
            "137/137 [==============================] - 1s 9ms/step - loss: 123477352.0000 - val_loss: 11336923.0000\n",
            "Epoch 187/200\n",
            "137/137 [==============================] - 1s 9ms/step - loss: 96143904.0000 - val_loss: 37223264.0000\n",
            "Epoch 188/200\n",
            "137/137 [==============================] - 1s 9ms/step - loss: 63264888.0000 - val_loss: 11898750.0000\n",
            "Epoch 189/200\n",
            "137/137 [==============================] - 1s 10ms/step - loss: 77065352.0000 - val_loss: 29991924.0000\n",
            "Epoch 190/200\n",
            "137/137 [==============================] - 1s 10ms/step - loss: 76601680.0000 - val_loss: 50097868.0000\n",
            "Epoch 191/200\n",
            "137/137 [==============================] - 1s 11ms/step - loss: 67671040.0000 - val_loss: 16082324.0000\n",
            "Epoch 192/200\n",
            "137/137 [==============================] - 1s 10ms/step - loss: 60178236.0000 - val_loss: 14219319.0000\n",
            "Epoch 193/200\n",
            "137/137 [==============================] - 1s 9ms/step - loss: 61541448.0000 - val_loss: 6480240.0000\n",
            "Epoch 194/200\n",
            "137/137 [==============================] - 1s 10ms/step - loss: 55418712.0000 - val_loss: 7851633.5000\n",
            "Epoch 195/200\n",
            "137/137 [==============================] - 1s 10ms/step - loss: 63877428.0000 - val_loss: 8781068.0000\n",
            "Epoch 196/200\n",
            "137/137 [==============================] - 1s 10ms/step - loss: 103701192.0000 - val_loss: 34784324.0000\n",
            "Epoch 197/200\n",
            "137/137 [==============================] - 1s 10ms/step - loss: 71992680.0000 - val_loss: 7168349.5000\n",
            "Epoch 198/200\n",
            "137/137 [==============================] - 1s 10ms/step - loss: 72885096.0000 - val_loss: 64543024.0000\n",
            "Epoch 199/200\n",
            "137/137 [==============================] - 1s 9ms/step - loss: 67068552.0000 - val_loss: 8848151.0000\n",
            "Epoch 200/200\n",
            "137/137 [==============================] - 1s 9ms/step - loss: 54754004.0000 - val_loss: 10827558.0000\n"
          ],
          "name": "stdout"
        },
        {
          "output_type": "execute_result",
          "data": {
            "text/plain": [
              "<tensorflow.python.keras.callbacks.History at 0x7f5f32ea8dd0>"
            ]
          },
          "metadata": {
            "tags": []
          },
          "execution_count": 89
        }
      ]
    },
    {
      "cell_type": "code",
      "metadata": {
        "id": "npc2f3hnKIGu"
      },
      "source": [
        "loss = pd.DataFrame(model.history.history)"
      ],
      "execution_count": 90,
      "outputs": []
    },
    {
      "cell_type": "code",
      "metadata": {
        "colab": {
          "base_uri": "https://localhost:8080/",
          "height": 293
        },
        "id": "tnMLmGjbMdZ0",
        "outputId": "491d18a5-49d8-47b3-955b-a857b3003b2e"
      },
      "source": [
        "loss.plot()"
      ],
      "execution_count": 91,
      "outputs": [
        {
          "output_type": "execute_result",
          "data": {
            "text/plain": [
              "<matplotlib.axes._subplots.AxesSubplot at 0x7f5f32f46fd0>"
            ]
          },
          "metadata": {
            "tags": []
          },
          "execution_count": 91
        },
        {
          "output_type": "display_data",
          "data": {
            "image/png": "[encoded data removed]",
            "text/plain": [
              "<Figure size 432x288 with 1 Axes>"
            ]
          },
          "metadata": {
            "tags": []
          }
        }
      ]
    },
    {
      "cell_type": "code",
      "metadata": {
        "id": "-Si0ERZAMfXD"
      },
      "source": [
        "test_ann_pred = model.predict(X_test)"
      ],
      "execution_count": 92,
      "outputs": []
    },
    {
      "cell_type": "code",
      "metadata": {
        "colab": {
          "base_uri": "https://localhost:8080/"
        },
        "id": "BKK1R26oM44D",
        "outputId": "1f27037d-cab2-4983-cbd7-2924254954f2"
      },
      "source": [
        "print('Test data evaluation:\\n----------------------------')\n",
        "print_metrics(y_test, test_ann_pred)"
      ],
      "execution_count": 93,
      "outputs": [
        {
          "output_type": "stream",
          "text": [
            "Test data evaluation:\n",
            "----------------------------\n",
            "MAE 901.4310343650818\n",
            "MSE 10827562.999530697\n",
            "RMSE 3290.5262496340456\n",
            "R2_squared 0.9989256563011628\n",
            "--------------------------------------\n"
          ],
          "name": "stdout"
        }
      ]
    },
    {
      "cell_type": "markdown",
      "metadata": {
        "id": "N5OPpFTENf32"
      },
      "source": [
        "Artificial neural networks also given best fit with R2_score 0.999, which seems a better model."
      ]
    },
    {
      "cell_type": "markdown",
      "metadata": {
        "id": "XVKWKviDN0QZ"
      },
      "source": [
        "Getting the Data Frame of all the results."
      ]
    },
    {
      "cell_type": "code",
      "metadata": {
        "id": "IKXVXJZwV1tt"
      },
      "source": [
        "def evaluate(true, predicted):\n",
        "    mae = metrics.mean_absolute_error(true, predicted)\n",
        "    mse = metrics.mean_squared_error(true, predicted)\n",
        "    rmse = np.sqrt(metrics.mean_squared_error(true, predicted))\n",
        "    r2_square = metrics.r2_score(true, predicted)\n",
        "    return mae, mse, rmse, r2_square"
      ],
      "execution_count": 96,
      "outputs": []
    },
    {
      "cell_type": "code",
      "metadata": {
        "id": "W12TvRU0NSJz"
      },
      "source": [
        "df1 = pd.DataFrame(data=[[\"Linear Regression\", *evaluate(y_test, test_pred)]], columns=['Model','MAE','MSE','RMSE','R2_SCORE'])"
      ],
      "execution_count": 99,
      "outputs": []
    },
    {
      "cell_type": "code",
      "metadata": {
        "id": "K0-bgcr9WPOf"
      },
      "source": [
        "df2 = pd.DataFrame(data=[[\"Decision Tree\", *evaluate(y_test, test_dtm_pred)]], columns=['Model','MAE','MSE','RMSE','R2_SCORE'])\n",
        "df1 = df1.append(df2, ignore_index=True)"
      ],
      "execution_count": 111,
      "outputs": []
    },
    {
      "cell_type": "code",
      "metadata": {
        "id": "eojRtFmdWfh9"
      },
      "source": [
        "df3 = pd.DataFrame(data=[[\"Random Forest\", *evaluate(y_test, test_rf_pred)]], columns=['Model','MAE','MSE','RMSE','R2_SCORE'])\n",
        "df1 = df1.append(df3, ignore_index=True)"
      ],
      "execution_count": 112,
      "outputs": []
    },
    {
      "cell_type": "code",
      "metadata": {
        "id": "q96Hho7YWnXH"
      },
      "source": [
        "df4 = pd.DataFrame(data=[[\"Artificial Neural Networks\", *evaluate(y_test, test_ann_pred)]], columns=['Model','MAE','MSE','RMSE','R2_SCORE'])\n",
        "df1 = df1.append(df4, ignore_index=True)"
      ],
      "execution_count": 113,
      "outputs": []
    },
    {
      "cell_type": "code",
      "metadata": {
        "colab": {
          "base_uri": "https://localhost:8080/",
          "height": 173
        },
        "id": "m1otSl3CPEXU",
        "outputId": "62992ef4-0384-4269-ee5e-956fce8ee6e7"
      },
      "source": [
        "df1.head()"
      ],
      "execution_count": 115,
      "outputs": [
        {
          "output_type": "execute_result",
          "data": {
            "text/html": [
              "<div>\n",
              "<style scoped>\n",
              "    .dataframe tbody tr th:only-of-type {\n",
              "        vertical-align: middle;\n",
              "    }\n",
              "\n",
              "    .dataframe tbody tr th {\n",
              "        vertical-align: top;\n",
              "    }\n",
              "\n",
              "    .dataframe thead th {\n",
              "        text-align: right;\n",
              "    }\n",
              "</style>\n",
              "<table border=\"1\" class=\"dataframe\">\n",
              "  <thead>\n",
              "    <tr style=\"text-align: right;\">\n",
              "      <th></th>\n",
              "      <th>Model</th>\n",
              "      <th>MAE</th>\n",
              "      <th>MSE</th>\n",
              "      <th>RMSE</th>\n",
              "      <th>R2_SCORE</th>\n",
              "    </tr>\n",
              "  </thead>\n",
              "  <tbody>\n",
              "    <tr>\n",
              "      <th>0</th>\n",
              "      <td>Linear Regression</td>\n",
              "      <td>311.184926</td>\n",
              "      <td>5.359971e+06</td>\n",
              "      <td>2315.161127</td>\n",
              "      <td>0.999468</td>\n",
              "    </tr>\n",
              "    <tr>\n",
              "      <th>1</th>\n",
              "      <td>Decision Tree</td>\n",
              "      <td>9125.751203</td>\n",
              "      <td>4.465480e+08</td>\n",
              "      <td>21131.683242</td>\n",
              "      <td>0.955692</td>\n",
              "    </tr>\n",
              "    <tr>\n",
              "      <th>2</th>\n",
              "      <td>Random Forest</td>\n",
              "      <td>489.739860</td>\n",
              "      <td>1.360519e+07</td>\n",
              "      <td>3688.520861</td>\n",
              "      <td>0.998650</td>\n",
              "    </tr>\n",
              "    <tr>\n",
              "      <th>3</th>\n",
              "      <td>Artificial Neural Networks</td>\n",
              "      <td>901.431034</td>\n",
              "      <td>1.082756e+07</td>\n",
              "      <td>3290.526250</td>\n",
              "      <td>0.998926</td>\n",
              "    </tr>\n",
              "  </tbody>\n",
              "</table>\n",
              "</div>"
            ],
            "text/plain": [
              "                        Model          MAE  ...          RMSE  R2_SCORE\n",
              "0           Linear Regression   311.184926  ...   2315.161127  0.999468\n",
              "1               Decision Tree  9125.751203  ...  21131.683242  0.955692\n",
              "2               Random Forest   489.739860  ...   3688.520861  0.998650\n",
              "3  Artificial Neural Networks   901.431034  ...   3290.526250  0.998926\n",
              "\n",
              "[4 rows x 5 columns]"
            ]
          },
          "metadata": {
            "tags": []
          },
          "execution_count": 115
        }
      ]
    },
    {
      "cell_type": "markdown",
      "metadata": {
        "id": "s7g7cQ0eX_Zl"
      },
      "source": [
        "Out of all the models the Linear Regression model is the best fit for the data and gives the best results for predicting the impact of the tweets with the features concerned."
      ]
    },
    {
      "cell_type": "code",
      "metadata": {
        "id": "OsdMXBaeP_RH"
      },
      "source": [
        ""
      ],
      "execution_count": null,
      "outputs": []
    }
  ]
}